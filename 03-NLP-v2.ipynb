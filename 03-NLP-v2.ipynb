{
 "cells": [
  {
   "cell_type": "markdown",
   "metadata": {
    "id": "PBabb1xmqSlM"
   },
   "source": [
    "# 1 Preliminary"
   ]
  },
  {
   "cell_type": "code",
   "execution_count": null,
   "metadata": {
    "ExecuteTime": {
     "end_time": "2023-02-22T12:17:00.372864Z",
     "start_time": "2023-02-22T12:17:00.352364Z"
    }
   },
   "outputs": [],
   "source": [
    "cd .."
   ]
  },
  {
   "cell_type": "code",
   "execution_count": null,
   "metadata": {
    "ExecuteTime": {
     "end_time": "2023-02-22T12:17:01.600237Z",
     "start_time": "2023-02-22T12:17:01.592638Z"
    }
   },
   "outputs": [],
   "source": [
    "pwd"
   ]
  },
  {
   "cell_type": "code",
   "execution_count": null,
   "metadata": {
    "ExecuteTime": {
     "end_time": "2023-02-22T12:17:09.070143Z",
     "start_time": "2023-02-22T12:17:08.940629Z"
    }
   },
   "outputs": [],
   "source": [
    "ls"
   ]
  },
  {
   "cell_type": "markdown",
   "metadata": {
    "id": "dAhj129JqdaC"
   },
   "source": [
    "## 1.1 Install"
   ]
  },
  {
   "cell_type": "markdown",
   "metadata": {
    "id": "7hbCWzSXyZbn"
   },
   "source": [
    "Install 3rd party tools : "
   ]
  },
  {
   "cell_type": "code",
   "execution_count": null,
   "metadata": {
    "ExecuteTime": {
     "end_time": "2023-02-10T14:13:35.022083Z",
     "start_time": "2023-02-10T14:13:35.016559Z"
    },
    "id": "WaWug0R1rKPN"
   },
   "outputs": [],
   "source": [
    "# !sudo apt install unzip tree htop"
   ]
  },
  {
   "cell_type": "markdown",
   "metadata": {
    "id": "yE-usmhkycvz"
   },
   "source": [
    "Install various Librairies : "
   ]
  },
  {
   "cell_type": "code",
   "execution_count": null,
   "metadata": {
    "ExecuteTime": {
     "end_time": "2023-02-10T14:48:46.005135Z",
     "start_time": "2023-02-10T14:48:44.093798Z"
    },
    "id": "sfsFooZVqajD"
   },
   "outputs": [],
   "source": [
    "# !pip install -r requirements.txt >> pip.log\n",
    "# !pip freeze >> pip.freeze"
   ]
  },
  {
   "cell_type": "code",
   "execution_count": null,
   "metadata": {},
   "outputs": [],
   "source": [
    "!python -m spacy download en_core_web_sm >> spacy.log\n",
    "!python -m spacy download en_core_web_md >> spacy.log\n",
    "# !python -m spacy download en_core_web_lg >> spacy.log"
   ]
  },
  {
   "cell_type": "markdown",
   "metadata": {
    "id": "xVpywqWAqalg"
   },
   "source": [
    "## 1.2 Import "
   ]
  },
  {
   "cell_type": "code",
   "execution_count": null,
   "metadata": {
    "ExecuteTime": {
     "end_time": "2023-02-22T12:22:52.158952Z",
     "start_time": "2023-02-22T12:22:52.152138Z"
    },
    "id": "Rt4va8LsqnGR"
   },
   "outputs": [],
   "source": [
    "import os, sys, warnings\n",
    "import pickle\n",
    "from IPython.display import display\n",
    "\n",
    "import pandas as pd\n",
    "import numpy as np\n",
    "\n",
    "import matplotlib.pyplot as plt\n",
    "import seaborn as sns\n",
    "import plotly.express as px\n",
    "\n",
    "import missingno as msno\n",
    "\n",
    "from sklearn.base import *\n",
    "from sklearn.preprocessing import *\n",
    "from sklearn.impute import *\n",
    "from sklearn.model_selection import *\n",
    "from sklearn.decomposition import *\n",
    "from sklearn.ensemble import *\n",
    "from sklearn.model_selection import *\n",
    "from sklearn.pipeline import *\n",
    "from sklearn.feature_extraction import *\n",
    "from sklearn.dummy import *\n",
    "from sklearn.feature_extraction.text import *\n",
    "\n",
    "from lightgbm import *\n",
    "from xgboost import *\n",
    "from sklearn.linear_model import *\n",
    "from sklearn.ensemble import *\n",
    "from sklearn.neighbors import *\n",
    "\n",
    "\n",
    "import nltk\n",
    "import wordcloud\n",
    "\n",
    "import spacy\n",
    "from spacy.lang.en.stop_words import STOP_WORDS\n",
    "\n",
    "import gensim\n",
    "import transformers\n",
    "\n",
    "import nltk\n",
    "from nltk.corpus import stopwords\n",
    "from nltk.corpus import words\n",
    "from nltk.tokenize import wordpunct_tokenize\n",
    "import string"
   ]
  },
  {
   "cell_type": "code",
   "execution_count": null,
   "metadata": {},
   "outputs": [],
   "source": [
    "# nlp = spacy.load('en_core_web_lg')"
   ]
  },
  {
   "cell_type": "markdown",
   "metadata": {
    "id": "xkZ4K9CRqaoM"
   },
   "source": [
    "## 1.3 Graphs and Settings"
   ]
  },
  {
   "cell_type": "code",
   "execution_count": null,
   "metadata": {
    "ExecuteTime": {
     "end_time": "2023-02-22T12:17:47.974307Z",
     "start_time": "2023-02-22T12:17:47.964935Z"
    },
    "id": "34QZa76rqxLu"
   },
   "outputs": [],
   "source": [
    "sns.set()"
   ]
  },
  {
   "cell_type": "code",
   "execution_count": null,
   "metadata": {},
   "outputs": [],
   "source": [
    "# warnings.filterwarnings('ignore')\n",
    "warnings.filterwarnings(action=\"once\")"
   ]
  },
  {
   "cell_type": "code",
   "execution_count": null,
   "metadata": {
    "ExecuteTime": {
     "end_time": "2023-02-22T12:17:48.395288Z",
     "start_time": "2023-02-22T12:17:48.389354Z"
    }
   },
   "outputs": [],
   "source": [
    "DISPLAY = True"
   ]
  },
  {
   "cell_type": "markdown",
   "metadata": {
    "id": "FUVeEfm9qx8f"
   },
   "source": [
    "## 1.4 Data"
   ]
  },
  {
   "cell_type": "code",
   "execution_count": null,
   "metadata": {
    "ExecuteTime": {
     "end_time": "2023-02-22T12:17:50.592587Z",
     "start_time": "2023-02-22T12:17:50.588947Z"
    },
    "id": "o_SlDzD1r4KP"
   },
   "outputs": [],
   "source": [
    "source = \"./data/cleaned/\""
   ]
  },
  {
   "cell_type": "code",
   "execution_count": null,
   "metadata": {
    "ExecuteTime": {
     "end_time": "2023-02-22T12:17:51.402595Z",
     "start_time": "2023-02-22T12:17:51.373982Z"
    },
    "id": "4LfAEaWRrzTz"
   },
   "outputs": [],
   "source": [
    "df = pd.read_csv(source + \"df2.csv\")\n",
    "DF = df.copy()\n",
    "df.head(2)"
   ]
  },
  {
   "cell_type": "markdown",
   "metadata": {
    "ExecuteTime": {
     "end_time": "2023-02-10T14:50:27.970009Z",
     "start_time": "2023-02-10T14:50:27.432446Z"
    },
    "id": "kzoLQvf44HRX"
   },
   "source": [
    "# 2 First tour "
   ]
  },
  {
   "cell_type": "code",
   "execution_count": null,
   "metadata": {
    "ExecuteTime": {
     "end_time": "2023-02-22T12:18:10.738643Z",
     "start_time": "2023-02-22T12:18:10.729289Z"
    }
   },
   "outputs": [],
   "source": [
    "df.head()"
   ]
  },
  {
   "cell_type": "code",
   "execution_count": null,
   "metadata": {
    "ExecuteTime": {
     "end_time": "2023-02-22T12:18:11.822225Z",
     "start_time": "2023-02-22T12:18:11.796960Z"
    }
   },
   "outputs": [],
   "source": [
    "df.info()"
   ]
  },
  {
   "cell_type": "code",
   "execution_count": null,
   "metadata": {
    "ExecuteTime": {
     "end_time": "2023-02-22T12:18:13.682979Z",
     "start_time": "2023-02-22T12:18:13.675661Z"
    }
   },
   "outputs": [],
   "source": [
    "df.dtypes.value_counts()"
   ]
  },
  {
   "cell_type": "code",
   "execution_count": null,
   "metadata": {
    "ExecuteTime": {
     "end_time": "2023-02-22T12:18:15.411345Z",
     "start_time": "2023-02-22T12:18:15.402447Z"
    }
   },
   "outputs": [],
   "source": [
    "tmp = df.isna().mean(axis=0)\n",
    "tmp"
   ]
  },
  {
   "cell_type": "code",
   "execution_count": null,
   "metadata": {
    "ExecuteTime": {
     "end_time": "2023-02-22T12:18:22.373402Z",
     "start_time": "2023-02-22T12:18:22.364415Z"
    }
   },
   "outputs": [],
   "source": [
    "df.duplicated().sum()"
   ]
  },
  {
   "cell_type": "code",
   "execution_count": null,
   "metadata": {
    "ExecuteTime": {
     "end_time": "2023-02-22T12:18:24.592456Z",
     "start_time": "2023-02-22T12:18:24.570000Z"
    }
   },
   "outputs": [],
   "source": [
    "df.describe()"
   ]
  },
  {
   "cell_type": "code",
   "execution_count": null,
   "metadata": {
    "ExecuteTime": {
     "end_time": "2023-02-22T12:18:25.486863Z",
     "start_time": "2023-02-22T12:18:25.468119Z"
    }
   },
   "outputs": [],
   "source": [
    "df.describe(include=object)"
   ]
  },
  {
   "attachments": {},
   "cell_type": "markdown",
   "metadata": {},
   "source": [
    "# 3 Prepare Data"
   ]
  },
  {
   "cell_type": "code",
   "execution_count": null,
   "metadata": {
    "ExecuteTime": {
     "end_time": "2023-02-22T12:18:27.463765Z",
     "start_time": "2023-02-22T12:18:27.277572Z"
    }
   },
   "outputs": [],
   "source": [
    "y = df.cat_1\n",
    "y"
   ]
  },
  {
   "cell_type": "code",
   "execution_count": null,
   "metadata": {},
   "outputs": [],
   "source": [
    "X = df.description"
   ]
  },
  {
   "cell_type": "code",
   "execution_count": null,
   "metadata": {},
   "outputs": [],
   "source": [
    "def cv():\n",
    "    return StratifiedShuffleSplit(n_splits=5, test_size=0.25)\n",
    "\n",
    "\n",
    "cv()"
   ]
  },
  {
   "attachments": {},
   "cell_type": "markdown",
   "metadata": {},
   "source": [
    "# 4 Using Gensim"
   ]
  },
  {
   "attachments": {},
   "cell_type": "markdown",
   "metadata": {},
   "source": [
    "## 4.1 By Hand"
   ]
  },
  {
   "cell_type": "code",
   "execution_count": null,
   "metadata": {
    "ExecuteTime": {
     "end_time": "2023-02-22T12:24:50.897459Z",
     "start_time": "2023-02-22T12:24:50.890472Z"
    }
   },
   "outputs": [],
   "source": [
    "documents = df.description\n",
    "documents[:10]"
   ]
  },
  {
   "cell_type": "code",
   "execution_count": null,
   "metadata": {
    "ExecuteTime": {
     "end_time": "2023-02-22T12:25:42.803825Z",
     "start_time": "2023-02-22T12:25:22.555754Z"
    }
   },
   "outputs": [],
   "source": [
    "# Tokenize and preprocess the documents using spaCy\n",
    "tokenized_docs = [\n",
    "    [\n",
    "        token.lemma_\n",
    "        for token in nlp(doc.lower())\n",
    "        if not token.is_stop and not token.is_punct\n",
    "    ]\n",
    "    for doc in documents\n",
    "]\n",
    "tokenized_docs[:10]"
   ]
  },
  {
   "cell_type": "code",
   "execution_count": null,
   "metadata": {
    "ExecuteTime": {
     "end_time": "2023-02-22T12:25:42.849019Z",
     "start_time": "2023-02-22T12:25:42.806014Z"
    }
   },
   "outputs": [],
   "source": [
    "# Create tagged documents\n",
    "tagged_docs = [\n",
    "    TaggedDocument(words=doc, tags=[i]) for i, doc in enumerate(tokenized_docs)\n",
    "]\n",
    "tagged_docs[:10]"
   ]
  },
  {
   "cell_type": "code",
   "execution_count": null,
   "metadata": {
    "ExecuteTime": {
     "end_time": "2023-02-22T12:26:12.958857Z",
     "start_time": "2023-02-22T12:26:04.105331Z"
    }
   },
   "outputs": [],
   "source": [
    "# Train the Doc2Vec model\n",
    "model = Doc2Vec(\n",
    "    tagged_docs, vector_size=50, window=2, min_count=1, workers=4, epochs=100\n",
    ")\n",
    "model"
   ]
  },
  {
   "cell_type": "code",
   "execution_count": null,
   "metadata": {
    "ExecuteTime": {
     "end_time": "2023-02-22T12:29:24.481191Z",
     "start_time": "2023-02-22T12:29:13.060124Z"
    }
   },
   "outputs": [],
   "source": [
    "# Get the document vectors\n",
    "doc_vectors = [model.infer_vector(doc) for doc in tokenized_docs]\n",
    "print(doc_vectors)"
   ]
  },
  {
   "cell_type": "code",
   "execution_count": null,
   "metadata": {
    "ExecuteTime": {
     "end_time": "2023-02-22T12:29:24.491186Z",
     "start_time": "2023-02-22T12:29:24.486319Z"
    }
   },
   "outputs": [],
   "source": [
    "type(doc_vectors)"
   ]
  },
  {
   "cell_type": "code",
   "execution_count": null,
   "metadata": {
    "ExecuteTime": {
     "end_time": "2023-02-22T12:29:33.460373Z",
     "start_time": "2023-02-22T12:29:33.456054Z"
    }
   },
   "outputs": [],
   "source": [
    "len(doc_vectors)"
   ]
  },
  {
   "cell_type": "code",
   "execution_count": null,
   "metadata": {
    "ExecuteTime": {
     "end_time": "2023-02-22T12:29:38.402517Z",
     "start_time": "2023-02-22T12:29:38.397350Z"
    }
   },
   "outputs": [],
   "source": [
    "len(df)"
   ]
  },
  {
   "cell_type": "code",
   "execution_count": null,
   "metadata": {
    "ExecuteTime": {
     "end_time": "2023-02-22T12:29:57.776240Z",
     "start_time": "2023-02-22T12:29:57.727833Z"
    }
   },
   "outputs": [],
   "source": [
    "X = pd.DataFrame(doc_vectors)\n",
    "X"
   ]
  },
  {
   "cell_type": "code",
   "execution_count": null,
   "metadata": {
    "ExecuteTime": {
     "end_time": "2023-02-22T12:30:04.386526Z",
     "start_time": "2023-02-22T12:30:04.381030Z"
    }
   },
   "outputs": [],
   "source": [
    "X.shape"
   ]
  },
  {
   "cell_type": "code",
   "execution_count": null,
   "metadata": {},
   "outputs": [],
   "source": [
    "grid = GridSearchCV(\n",
    "    LogisticRegression(), {}, cv=cv(), n_jobs=-1, return_train_score=True, verbose=1\n",
    ")\n",
    "\n",
    "grid.fit(X, y)"
   ]
  },
  {
   "cell_type": "code",
   "execution_count": null,
   "metadata": {},
   "outputs": [],
   "source": [
    "display(grid.best_estimator_)\n",
    "\n",
    "res = pd.DataFrame(grid.cv_results_)\n",
    "cols = [i for i in res.columns if \"split\" not in i]\n",
    "res = res.loc[:, cols]\n",
    "res.round(2).sort_values(\"mean_test_score\", ascending=False).head(10)"
   ]
  },
  {
   "cell_type": "code",
   "execution_count": null,
   "metadata": {},
   "outputs": [],
   "source": [
    "pst = \"passthrough\"\n",
    "\n",
    "pipeline = Pipeline(\n",
    "    [\n",
    "        (\"preprocessor\", pst),\n",
    "        (\"scaler\", pst),\n",
    "        (\"reductor\", pst),\n",
    "        (\"estimator\", LogisticRegression()()),\n",
    "    ]\n",
    ")\n",
    "\n",
    "pipeline"
   ]
  },
  {
   "cell_type": "code",
   "execution_count": null,
   "metadata": {},
   "outputs": [],
   "source": [
    "param_grid = {\n",
    "    \"scaler\": [\n",
    "        \"passthrough\",\n",
    "        StandardScaler(),\n",
    "        QuantileTransformer(n_quantiles=100),\n",
    "        MinMaxScaler(),\n",
    "        Normalizer(),\n",
    "    ],\n",
    "    \"reductor\": [PCA()],\n",
    "    \"reductor__n_components\": [0.7, 0.85, 0.9, 0.95, 0.99],\n",
    "    \"estimator\": [RandomForestClassifier(), LGBMClassifier(), LogisticRegression()],\n",
    "}\n",
    "param_grid"
   ]
  },
  {
   "cell_type": "code",
   "execution_count": null,
   "metadata": {},
   "outputs": [],
   "source": [
    "grid = GridSearchCV(\n",
    "    pipeline, param_grid, cv=cv(), n_jobs=-1, return_train_score=True, verbose=1\n",
    ")\n",
    "\n",
    "grid.fit(X, y)"
   ]
  },
  {
   "cell_type": "code",
   "execution_count": null,
   "metadata": {},
   "outputs": [],
   "source": [
    "display(grid.best_estimator_)\n",
    "\n",
    "res = pd.DataFrame(grid.cv_results_)\n",
    "cols = [i for i in res.columns if \"split\" not in i]\n",
    "res = res.loc[:, cols]\n",
    "res.round(2).sort_values(\"mean_test_score\", ascending=False).head(10)"
   ]
  },
  {
   "attachments": {},
   "cell_type": "markdown",
   "metadata": {},
   "source": [
    "## 4.2 using Pipeline"
   ]
  },
  {
   "cell_type": "code",
   "execution_count": null,
   "metadata": {},
   "outputs": [],
   "source": [
    "pst = \"passthrough\"\n",
    "\n",
    "pipeline = Pipeline(\n",
    "    [\n",
    "        (\"preprocessor\", pst),\n",
    "        (\"scaler\", pst),\n",
    "        (\"reductor\", pst),\n",
    "        (\"estimator\", RandomForestClassifier()),\n",
    "    ]\n",
    ")\n",
    "\n",
    "pipeline"
   ]
  },
  {
   "cell_type": "code",
   "execution_count": null,
   "metadata": {},
   "outputs": [],
   "source": [
    "class Doc2VecTransformer(BaseEstimator, TransformerMixin):\n",
    "    def __init__(self, vector_size=100, window=5, min_count=5, epochs=10):\n",
    "        self.vector_size = vector_size\n",
    "        self.window = window\n",
    "        self.min_count = min_count\n",
    "        self.epochs = epochs\n",
    "        self.model = None\n",
    "\n",
    "    def fit(self, X, y=None):\n",
    "        tagged_data = [\n",
    "            TaggedDocument(words=doc.split(), tags=[i]) for i, doc in enumerate(X)\n",
    "        ]\n",
    "        self.model = Doc2Vec(\n",
    "            tagged_data,\n",
    "            vector_size=self.vector_size,\n",
    "            window=self.window,\n",
    "            min_count=self.min_count,\n",
    "            epochs=self.epochs,\n",
    "        )\n",
    "        return self\n",
    "\n",
    "    def transform(self, X, y=None):\n",
    "        return [self.model.infer_vector(doc.split()) for doc in X]"
   ]
  },
  {
   "cell_type": "code",
   "execution_count": null,
   "metadata": {},
   "outputs": [],
   "source": [
    "param_grid = {\"preprocessor\": [Doc2VecTransformer()]}"
   ]
  },
  {
   "cell_type": "code",
   "execution_count": null,
   "metadata": {},
   "outputs": [],
   "source": [
    "grid = GridSearchCV(\n",
    "    pipeline, param_grid, cv=cv(), n_jobs=-1, return_train_score=True, verbose=1\n",
    ")\n",
    "\n",
    "grid.fit(tokenized_docs, y)\n",
    "\n",
    "grid.best_estimator_"
   ]
  },
  {
   "cell_type": "code",
   "execution_count": null,
   "metadata": {},
   "outputs": [],
   "source": [
    "display(grid.best_estimator_)\n",
    "\n",
    "res = pd.DataFrame(grid.cv_results_)\n",
    "cols = [i for i in res.columns if \"split\" not in i]\n",
    "res = res.loc[:, cols]\n",
    "res.round(2).sort_values(\"mean_test_score\", ascending=False).head(10)"
   ]
  },
  {
   "cell_type": "code",
   "execution_count": null,
   "metadata": {},
   "outputs": [],
   "source": [
    "# doc2vec_transformer = Doc2VecTransformer(vector_size=100, window=5, min_count=5, epochs=10)\n",
    "# tfidf_vectorizer = TfidfVectorizer()\n",
    "# logistic_regression = LogisticRegression()"
   ]
  },
  {
   "cell_type": "code",
   "execution_count": null,
   "metadata": {},
   "outputs": [],
   "source": [
    "param_grid = {\n",
    "    \"preprocessor\": [Doc2VecTransformer()],\n",
    "    \"preprocessor__vector_size\": [100, 200, 300],\n",
    "    \"preprocessor__window\": [5, 10, 15],\n",
    "}"
   ]
  },
  {
   "cell_type": "code",
   "execution_count": null,
   "metadata": {},
   "outputs": [],
   "source": [
    "grid = GridSearchCV(\n",
    "    pipeline, param_grid, cv=cv(), n_jobs=-1, return_train_score=True, verbose=1\n",
    ")\n",
    "\n",
    "grid.fit(tokenized_docs, y)\n",
    "\n",
    "grid.best_estimator_"
   ]
  },
  {
   "cell_type": "code",
   "execution_count": null,
   "metadata": {},
   "outputs": [],
   "source": [
    "display(grid.best_estimator_)\n",
    "\n",
    "res = pd.DataFrame(grid.cv_results_)\n",
    "cols = [i for i in res.columns if \"split\" not in i]\n",
    "res = res.loc[:, cols]\n",
    "res.round(2).sort_values(\"mean_test_score\", ascending=False).head(10)"
   ]
  }
 ],
 "metadata": {
  "colab": {
   "private_outputs": true,
   "provenance": [],
   "toc_visible": true
  },
  "hide_input": false,
  "kernelspec": {
   "display_name": "NENV",
   "language": "python",
   "name": "python3"
  },
  "language_info": {
   "codemirror_mode": {
    "name": "ipython",
    "version": 3
   },
   "file_extension": ".py",
   "mimetype": "text/x-python",
   "name": "python",
   "nbconvert_exporter": "python",
   "pygments_lexer": "ipython3",
   "version": "3.8.10"
  },
  "vscode": {
   "interpreter": {
    "hash": "bd158c7f1a670d1d188328ca41323458089a3c8a74c42040854dc6ec477fbf56"
   }
  }
 },
 "nbformat": 4,
 "nbformat_minor": 1
}
